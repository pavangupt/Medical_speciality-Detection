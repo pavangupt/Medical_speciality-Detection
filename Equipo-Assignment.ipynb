{
 "cells": [
  {
   "cell_type": "code",
   "execution_count": 1,
   "id": "10b6b25d",
   "metadata": {},
   "outputs": [
    {
     "name": "stderr",
     "output_type": "stream",
     "text": [
      "[nltk_data] Downloading package stopwords to\n",
      "[nltk_data]     C:\\Users\\Sonal\\AppData\\Roaming\\nltk_data...\n",
      "[nltk_data]   Package stopwords is already up-to-date!\n"
     ]
    }
   ],
   "source": [
    "#Importing Necessary libraries\n",
    "\n",
    "import numpy as np\n",
    "import matplotlib.pyplot as plt\n",
    "import seaborn as sns\n",
    "%matplotlib inline\n",
    "import pandas as pd\n",
    "import warnings\n",
    "warnings.filterwarnings(\"ignore\")\n",
    "\n",
    "#for natural language preprocessing\n",
    "import nltk\n",
    "import re\n",
    "nltk.download(\"stopwords\")\n",
    "from nltk.stem import WordNetLemmatizer\n"
   ]
  },
  {
   "cell_type": "code",
   "execution_count": 2,
   "id": "d74a0b36",
   "metadata": {},
   "outputs": [],
   "source": [
    "from nltk.corpus import stopwords"
   ]
  },
  {
   "cell_type": "code",
   "execution_count": 3,
   "id": "4f609d21",
   "metadata": {},
   "outputs": [],
   "source": [
    "pd.options.display.max_columns\n",
    "df= pd.read_csv(\"med.csv\")"
   ]
  },
  {
   "cell_type": "code",
   "execution_count": 4,
   "id": "06acf1a6",
   "metadata": {},
   "outputs": [],
   "source": [
    "#df=pd.read_csv(\"https://raw.githubusercontent.com/aws-samples/amazon-textract-and-comprehend-medical-document-processing/main/data/mtsamples.csv\")"
   ]
  },
  {
   "cell_type": "code",
   "execution_count": 5,
   "id": "db47b606",
   "metadata": {},
   "outputs": [
    {
     "data": {
      "text/html": [
       "<div>\n",
       "<style scoped>\n",
       "    .dataframe tbody tr th:only-of-type {\n",
       "        vertical-align: middle;\n",
       "    }\n",
       "\n",
       "    .dataframe tbody tr th {\n",
       "        vertical-align: top;\n",
       "    }\n",
       "\n",
       "    .dataframe thead th {\n",
       "        text-align: right;\n",
       "    }\n",
       "</style>\n",
       "<table border=\"1\" class=\"dataframe\">\n",
       "  <thead>\n",
       "    <tr style=\"text-align: right;\">\n",
       "      <th></th>\n",
       "      <th>Unnamed: 0</th>\n",
       "      <th>Unnamed: 0.1</th>\n",
       "      <th>Unnamed: 0.1.1</th>\n",
       "      <th>description</th>\n",
       "      <th>medical_specialty</th>\n",
       "      <th>sample_name</th>\n",
       "      <th>transcription</th>\n",
       "      <th>keywords</th>\n",
       "    </tr>\n",
       "  </thead>\n",
       "  <tbody>\n",
       "    <tr>\n",
       "      <th>0</th>\n",
       "      <td>0</td>\n",
       "      <td>0</td>\n",
       "      <td>0</td>\n",
       "      <td>A 23-year-old white female presents with comp...</td>\n",
       "      <td>Allergy / Immunology</td>\n",
       "      <td>Allergic Rhinitis</td>\n",
       "      <td>SUBJECTIVE:,  This 23-year-old white female pr...</td>\n",
       "      <td>allergy / immunology, allergic rhinitis, aller...</td>\n",
       "    </tr>\n",
       "    <tr>\n",
       "      <th>1</th>\n",
       "      <td>1</td>\n",
       "      <td>1</td>\n",
       "      <td>1</td>\n",
       "      <td>Consult for laparoscopic gastric bypass.</td>\n",
       "      <td>Bariatrics</td>\n",
       "      <td>Laparoscopic Gastric Bypass Consult - 2</td>\n",
       "      <td>PAST MEDICAL HISTORY:, He has difficulty climb...</td>\n",
       "      <td>bariatrics, laparoscopic gastric bypass, weigh...</td>\n",
       "    </tr>\n",
       "    <tr>\n",
       "      <th>2</th>\n",
       "      <td>2</td>\n",
       "      <td>2</td>\n",
       "      <td>2</td>\n",
       "      <td>Consult for laparoscopic gastric bypass.</td>\n",
       "      <td>Bariatrics</td>\n",
       "      <td>Laparoscopic Gastric Bypass Consult - 1</td>\n",
       "      <td>HISTORY OF PRESENT ILLNESS: , I have seen ABC ...</td>\n",
       "      <td>bariatrics, laparoscopic gastric bypass, heart...</td>\n",
       "    </tr>\n",
       "    <tr>\n",
       "      <th>3</th>\n",
       "      <td>3</td>\n",
       "      <td>3</td>\n",
       "      <td>3</td>\n",
       "      <td>2-D M-Mode. Doppler.</td>\n",
       "      <td>Cardiovascular / Pulmonary</td>\n",
       "      <td>2-D Echocardiogram - 1</td>\n",
       "      <td>2-D M-MODE: , ,1.  Left atrial enlargement wit...</td>\n",
       "      <td>cardiovascular / pulmonary, 2-d m-mode, dopple...</td>\n",
       "    </tr>\n",
       "    <tr>\n",
       "      <th>4</th>\n",
       "      <td>4</td>\n",
       "      <td>4</td>\n",
       "      <td>4</td>\n",
       "      <td>2-D Echocardiogram</td>\n",
       "      <td>Cardiovascular / Pulmonary</td>\n",
       "      <td>2-D Echocardiogram - 2</td>\n",
       "      <td>1.  The left ventricular cavity size and wall ...</td>\n",
       "      <td>cardiovascular / pulmonary, 2-d, doppler, echo...</td>\n",
       "    </tr>\n",
       "  </tbody>\n",
       "</table>\n",
       "</div>"
      ],
      "text/plain": [
       "   Unnamed: 0  Unnamed: 0.1  Unnamed: 0.1.1  \\\n",
       "0           0             0               0   \n",
       "1           1             1               1   \n",
       "2           2             2               2   \n",
       "3           3             3               3   \n",
       "4           4             4               4   \n",
       "\n",
       "                                         description  \\\n",
       "0   A 23-year-old white female presents with comp...   \n",
       "1           Consult for laparoscopic gastric bypass.   \n",
       "2           Consult for laparoscopic gastric bypass.   \n",
       "3                             2-D M-Mode. Doppler.     \n",
       "4                                 2-D Echocardiogram   \n",
       "\n",
       "             medical_specialty                                sample_name  \\\n",
       "0         Allergy / Immunology                         Allergic Rhinitis    \n",
       "1                   Bariatrics   Laparoscopic Gastric Bypass Consult - 2    \n",
       "2                   Bariatrics   Laparoscopic Gastric Bypass Consult - 1    \n",
       "3   Cardiovascular / Pulmonary                    2-D Echocardiogram - 1    \n",
       "4   Cardiovascular / Pulmonary                    2-D Echocardiogram - 2    \n",
       "\n",
       "                                       transcription  \\\n",
       "0  SUBJECTIVE:,  This 23-year-old white female pr...   \n",
       "1  PAST MEDICAL HISTORY:, He has difficulty climb...   \n",
       "2  HISTORY OF PRESENT ILLNESS: , I have seen ABC ...   \n",
       "3  2-D M-MODE: , ,1.  Left atrial enlargement wit...   \n",
       "4  1.  The left ventricular cavity size and wall ...   \n",
       "\n",
       "                                            keywords  \n",
       "0  allergy / immunology, allergic rhinitis, aller...  \n",
       "1  bariatrics, laparoscopic gastric bypass, weigh...  \n",
       "2  bariatrics, laparoscopic gastric bypass, heart...  \n",
       "3  cardiovascular / pulmonary, 2-d m-mode, dopple...  \n",
       "4  cardiovascular / pulmonary, 2-d, doppler, echo...  "
      ]
     },
     "execution_count": 5,
     "metadata": {},
     "output_type": "execute_result"
    }
   ],
   "source": [
    "df.head()"
   ]
  },
  {
   "cell_type": "code",
   "execution_count": 6,
   "id": "c65da770",
   "metadata": {},
   "outputs": [],
   "source": [
    "df.to_csv(\"med.csv\")"
   ]
  },
  {
   "cell_type": "markdown",
   "id": "41c6552c",
   "metadata": {},
   "source": [
    "<h2> data preprocessing</h2>"
   ]
  },
  {
   "cell_type": "code",
   "execution_count": 7,
   "id": "93f5f253",
   "metadata": {},
   "outputs": [
    {
     "data": {
      "text/html": [
       "<div>\n",
       "<style scoped>\n",
       "    .dataframe tbody tr th:only-of-type {\n",
       "        vertical-align: middle;\n",
       "    }\n",
       "\n",
       "    .dataframe tbody tr th {\n",
       "        vertical-align: top;\n",
       "    }\n",
       "\n",
       "    .dataframe thead th {\n",
       "        text-align: right;\n",
       "    }\n",
       "</style>\n",
       "<table border=\"1\" class=\"dataframe\">\n",
       "  <thead>\n",
       "    <tr style=\"text-align: right;\">\n",
       "      <th></th>\n",
       "      <th>Unnamed: 0</th>\n",
       "      <th>Unnamed: 0.1</th>\n",
       "      <th>Unnamed: 0.1.1</th>\n",
       "      <th>description</th>\n",
       "      <th>medical_specialty</th>\n",
       "      <th>sample_name</th>\n",
       "      <th>transcription</th>\n",
       "      <th>keywords</th>\n",
       "    </tr>\n",
       "  </thead>\n",
       "  <tbody>\n",
       "    <tr>\n",
       "      <th>count</th>\n",
       "      <td>4999.000000</td>\n",
       "      <td>4999.000000</td>\n",
       "      <td>4999.000000</td>\n",
       "      <td>4999</td>\n",
       "      <td>4999</td>\n",
       "      <td>4999</td>\n",
       "      <td>4966</td>\n",
       "      <td>3931</td>\n",
       "    </tr>\n",
       "    <tr>\n",
       "      <th>unique</th>\n",
       "      <td>NaN</td>\n",
       "      <td>NaN</td>\n",
       "      <td>NaN</td>\n",
       "      <td>2348</td>\n",
       "      <td>40</td>\n",
       "      <td>2377</td>\n",
       "      <td>2357</td>\n",
       "      <td>3849</td>\n",
       "    </tr>\n",
       "    <tr>\n",
       "      <th>top</th>\n",
       "      <td>NaN</td>\n",
       "      <td>NaN</td>\n",
       "      <td>NaN</td>\n",
       "      <td>An example/template for a routine normal male...</td>\n",
       "      <td>Surgery</td>\n",
       "      <td>Lumbar Discogram</td>\n",
       "      <td>PREOPERATIVE DIAGNOSIS: , Low back pain.,POSTO...</td>\n",
       "      <td></td>\n",
       "    </tr>\n",
       "    <tr>\n",
       "      <th>freq</th>\n",
       "      <td>NaN</td>\n",
       "      <td>NaN</td>\n",
       "      <td>NaN</td>\n",
       "      <td>12</td>\n",
       "      <td>1103</td>\n",
       "      <td>5</td>\n",
       "      <td>5</td>\n",
       "      <td>81</td>\n",
       "    </tr>\n",
       "    <tr>\n",
       "      <th>mean</th>\n",
       "      <td>2499.000000</td>\n",
       "      <td>2499.000000</td>\n",
       "      <td>2499.000000</td>\n",
       "      <td>NaN</td>\n",
       "      <td>NaN</td>\n",
       "      <td>NaN</td>\n",
       "      <td>NaN</td>\n",
       "      <td>NaN</td>\n",
       "    </tr>\n",
       "    <tr>\n",
       "      <th>std</th>\n",
       "      <td>1443.231328</td>\n",
       "      <td>1443.231328</td>\n",
       "      <td>1443.231328</td>\n",
       "      <td>NaN</td>\n",
       "      <td>NaN</td>\n",
       "      <td>NaN</td>\n",
       "      <td>NaN</td>\n",
       "      <td>NaN</td>\n",
       "    </tr>\n",
       "    <tr>\n",
       "      <th>min</th>\n",
       "      <td>0.000000</td>\n",
       "      <td>0.000000</td>\n",
       "      <td>0.000000</td>\n",
       "      <td>NaN</td>\n",
       "      <td>NaN</td>\n",
       "      <td>NaN</td>\n",
       "      <td>NaN</td>\n",
       "      <td>NaN</td>\n",
       "    </tr>\n",
       "    <tr>\n",
       "      <th>25%</th>\n",
       "      <td>1249.500000</td>\n",
       "      <td>1249.500000</td>\n",
       "      <td>1249.500000</td>\n",
       "      <td>NaN</td>\n",
       "      <td>NaN</td>\n",
       "      <td>NaN</td>\n",
       "      <td>NaN</td>\n",
       "      <td>NaN</td>\n",
       "    </tr>\n",
       "    <tr>\n",
       "      <th>50%</th>\n",
       "      <td>2499.000000</td>\n",
       "      <td>2499.000000</td>\n",
       "      <td>2499.000000</td>\n",
       "      <td>NaN</td>\n",
       "      <td>NaN</td>\n",
       "      <td>NaN</td>\n",
       "      <td>NaN</td>\n",
       "      <td>NaN</td>\n",
       "    </tr>\n",
       "    <tr>\n",
       "      <th>75%</th>\n",
       "      <td>3748.500000</td>\n",
       "      <td>3748.500000</td>\n",
       "      <td>3748.500000</td>\n",
       "      <td>NaN</td>\n",
       "      <td>NaN</td>\n",
       "      <td>NaN</td>\n",
       "      <td>NaN</td>\n",
       "      <td>NaN</td>\n",
       "    </tr>\n",
       "    <tr>\n",
       "      <th>max</th>\n",
       "      <td>4998.000000</td>\n",
       "      <td>4998.000000</td>\n",
       "      <td>4998.000000</td>\n",
       "      <td>NaN</td>\n",
       "      <td>NaN</td>\n",
       "      <td>NaN</td>\n",
       "      <td>NaN</td>\n",
       "      <td>NaN</td>\n",
       "    </tr>\n",
       "  </tbody>\n",
       "</table>\n",
       "</div>"
      ],
      "text/plain": [
       "         Unnamed: 0  Unnamed: 0.1  Unnamed: 0.1.1  \\\n",
       "count   4999.000000   4999.000000     4999.000000   \n",
       "unique          NaN           NaN             NaN   \n",
       "top             NaN           NaN             NaN   \n",
       "freq            NaN           NaN             NaN   \n",
       "mean    2499.000000   2499.000000     2499.000000   \n",
       "std     1443.231328   1443.231328     1443.231328   \n",
       "min        0.000000      0.000000        0.000000   \n",
       "25%     1249.500000   1249.500000     1249.500000   \n",
       "50%     2499.000000   2499.000000     2499.000000   \n",
       "75%     3748.500000   3748.500000     3748.500000   \n",
       "max     4998.000000   4998.000000     4998.000000   \n",
       "\n",
       "                                              description medical_specialty  \\\n",
       "count                                                4999              4999   \n",
       "unique                                               2348                40   \n",
       "top      An example/template for a routine normal male...           Surgery   \n",
       "freq                                                   12              1103   \n",
       "mean                                                  NaN               NaN   \n",
       "std                                                   NaN               NaN   \n",
       "min                                                   NaN               NaN   \n",
       "25%                                                   NaN               NaN   \n",
       "50%                                                   NaN               NaN   \n",
       "75%                                                   NaN               NaN   \n",
       "max                                                   NaN               NaN   \n",
       "\n",
       "               sample_name                                      transcription  \\\n",
       "count                 4999                                               4966   \n",
       "unique                2377                                               2357   \n",
       "top      Lumbar Discogram   PREOPERATIVE DIAGNOSIS: , Low back pain.,POSTO...   \n",
       "freq                     5                                                  5   \n",
       "mean                   NaN                                                NaN   \n",
       "std                    NaN                                                NaN   \n",
       "min                    NaN                                                NaN   \n",
       "25%                    NaN                                                NaN   \n",
       "50%                    NaN                                                NaN   \n",
       "75%                    NaN                                                NaN   \n",
       "max                    NaN                                                NaN   \n",
       "\n",
       "       keywords  \n",
       "count      3931  \n",
       "unique     3849  \n",
       "top              \n",
       "freq         81  \n",
       "mean        NaN  \n",
       "std         NaN  \n",
       "min         NaN  \n",
       "25%         NaN  \n",
       "50%         NaN  \n",
       "75%         NaN  \n",
       "max         NaN  "
      ]
     },
     "execution_count": 7,
     "metadata": {},
     "output_type": "execute_result"
    }
   ],
   "source": [
    "df.describe(include='all')"
   ]
  },
  {
   "cell_type": "code",
   "execution_count": 8,
   "id": "f095abdc",
   "metadata": {},
   "outputs": [
    {
     "name": "stdout",
     "output_type": "stream",
     "text": [
      "<class 'pandas.core.frame.DataFrame'>\n",
      "RangeIndex: 4999 entries, 0 to 4998\n",
      "Data columns (total 8 columns):\n",
      " #   Column             Non-Null Count  Dtype \n",
      "---  ------             --------------  ----- \n",
      " 0   Unnamed: 0         4999 non-null   int64 \n",
      " 1   Unnamed: 0.1       4999 non-null   int64 \n",
      " 2   Unnamed: 0.1.1     4999 non-null   int64 \n",
      " 3   description        4999 non-null   object\n",
      " 4   medical_specialty  4999 non-null   object\n",
      " 5   sample_name        4999 non-null   object\n",
      " 6   transcription      4966 non-null   object\n",
      " 7   keywords           3931 non-null   object\n",
      "dtypes: int64(3), object(5)\n",
      "memory usage: 312.6+ KB\n"
     ]
    }
   ],
   "source": [
    "df.info()"
   ]
  },
  {
   "cell_type": "markdown",
   "id": "a7a64057",
   "metadata": {},
   "source": [
    "### checking for null values"
   ]
  },
  {
   "cell_type": "code",
   "execution_count": 9,
   "id": "2fd8ae4a",
   "metadata": {},
   "outputs": [
    {
     "data": {
      "text/plain": [
       "Unnamed: 0              0\n",
       "Unnamed: 0.1            0\n",
       "Unnamed: 0.1.1          0\n",
       "description             0\n",
       "medical_specialty       0\n",
       "sample_name             0\n",
       "transcription          33\n",
       "keywords             1068\n",
       "dtype: int64"
      ]
     },
     "execution_count": 9,
     "metadata": {},
     "output_type": "execute_result"
    }
   ],
   "source": [
    "df.isnull().sum()"
   ]
  },
  {
   "cell_type": "code",
   "execution_count": 10,
   "id": "8f7b1bbb",
   "metadata": {},
   "outputs": [
    {
     "data": {
      "text/plain": [
       "(4999, 8)"
      ]
     },
     "execution_count": 10,
     "metadata": {},
     "output_type": "execute_result"
    }
   ],
   "source": [
    "df.shape"
   ]
  },
  {
   "cell_type": "code",
   "execution_count": 11,
   "id": "5ee4b63f",
   "metadata": {},
   "outputs": [
    {
     "data": {
      "text/plain": [
       "                                                                                                                                                                                                                                                                                                                                  81\n",
       "gastroenterology                                                                                                                                                                                                                                                                                                                   2\n",
       "surgery                                                                                                                                                                                                                                                                                                                            2\n",
       "consult - history and phy., loss of consciousness, soft tissue swelling, medial wall, maxillary sinus, sphenoid, collection, tube, bone,                                                                                                                                                                                           1\n",
       "nephrology, uremia, internal jugular vein hemodialysis catheter, pneumothorax, jugular vein, dialysis, chronic renal failure, internal jugular vein, pleural effusion, hemodialysis catheter, renal failure, cannulate, guidewire, insertion, jugular, catheter, hemodialysis, vein                                                1\n",
       "                                                                                                                                                                                                                                                                                                                                  ..\n",
       "gastroenterology, central line, triple lumen central line, subclavian vein, bowel obstruction, lumen, percutaneous, bowel, obstruction                                                                                                                                                                                             1\n",
       "surgery, hemorrhage, arteriovenous malformation, aneurysm, pterional craniotomy, bone flap, bipolar coagulation, arteriovenous, pterional, malformation, hematoma, intracerebral,                                                                                                                                                  1\n",
       "psychiatry / psychology, psychological testing, adhd, attention deficit hyperactivity disorder, bipolar spectrum disorder, cpt-ii, mmpi-2, posttraumatic stress disorder, welsh code, depression, psychological assessment, personality disorder, family stressors, posttraumatic stress, disorder, attention, psychological,      1\n",
       "surgery, knee arthroplasty, revision, zimmer nexgen, distal femoral, intramedullary guide, femoral component, femoral, knee, arthroplasty, intramedullary, patellar, medial, tibial,                                                                                                                                               1\n",
       "nephrology, ct scan, abdominal pain, multiple axial images, abdomen and pelvis, adrenal glands, chest ct, coronal, gallbladder, kidneys, liver, lymphadenopathy, nodules, osteoblastic, osteolytic, pancreas, sagittal, spleen, with contrast, free fluid, ct, abdomen, pelvis,                                                    1\n",
       "Name: keywords, Length: 3849, dtype: int64"
      ]
     },
     "execution_count": 11,
     "metadata": {},
     "output_type": "execute_result"
    }
   ],
   "source": [
    "df[\"keywords\"].value_counts()"
   ]
  },
  {
   "cell_type": "code",
   "execution_count": 12,
   "id": "cfe24aea",
   "metadata": {},
   "outputs": [
    {
     "data": {
      "text/plain": [
       "1068"
      ]
     },
     "execution_count": 12,
     "metadata": {},
     "output_type": "execute_result"
    }
   ],
   "source": [
    "df[\"keywords\"].isnull().sum()"
   ]
  },
  {
   "cell_type": "markdown",
   "id": "47baaa94",
   "metadata": {},
   "source": [
    "#removing the null values, since we don't have any data about the genres of indpendent features"
   ]
  },
  {
   "cell_type": "code",
   "execution_count": 13,
   "id": "801bbf36",
   "metadata": {},
   "outputs": [],
   "source": [
    "df.dropna(axis=0, inplace=True)"
   ]
  },
  {
   "cell_type": "code",
   "execution_count": 14,
   "id": "dcd6ab98",
   "metadata": {},
   "outputs": [
    {
     "data": {
      "text/plain": [
       "Unnamed: 0           0\n",
       "Unnamed: 0.1         0\n",
       "Unnamed: 0.1.1       0\n",
       "description          0\n",
       "medical_specialty    0\n",
       "sample_name          0\n",
       "transcription        0\n",
       "keywords             0\n",
       "dtype: int64"
      ]
     },
     "execution_count": 14,
     "metadata": {},
     "output_type": "execute_result"
    }
   ],
   "source": [
    "df.isnull().sum()"
   ]
  },
  {
   "cell_type": "markdown",
   "id": "d5da7fd6",
   "metadata": {},
   "source": [
    "### Checking for the datatypes"
   ]
  },
  {
   "cell_type": "code",
   "execution_count": 15,
   "id": "72815a82",
   "metadata": {},
   "outputs": [
    {
     "data": {
      "text/plain": [
       "Unnamed: 0            int64\n",
       "Unnamed: 0.1          int64\n",
       "Unnamed: 0.1.1        int64\n",
       "description          object\n",
       "medical_specialty    object\n",
       "sample_name          object\n",
       "transcription        object\n",
       "keywords             object\n",
       "dtype: object"
      ]
     },
     "execution_count": 15,
     "metadata": {},
     "output_type": "execute_result"
    }
   ],
   "source": [
    "df.dtypes   #all the datatypes in a proper format"
   ]
  },
  {
   "cell_type": "code",
   "execution_count": 16,
   "id": "ea9a0724",
   "metadata": {},
   "outputs": [],
   "source": [
    "## CHecking for Imbalancing"
   ]
  },
  {
   "cell_type": "code",
   "execution_count": 17,
   "id": "6c02cee9",
   "metadata": {},
   "outputs": [
    {
     "data": {
      "text/plain": [
       " Surgery                          1021\n",
       " Orthopedic                        303\n",
       " Cardiovascular / Pulmonary        280\n",
       " Radiology                         251\n",
       " Consult - History and Phy.        234\n",
       " Gastroenterology                  195\n",
       " Neurology                         168\n",
       " General Medicine                  146\n",
       " SOAP / Chart / Progress Notes     142\n",
       " Urology                           140\n",
       " Obstetrics / Gynecology           130\n",
       " ENT - Otolaryngology               84\n",
       " Neurosurgery                       81\n",
       " Ophthalmology                      79\n",
       " Discharge Summary                  77\n",
       " Nephrology                         63\n",
       " Hematology - Oncology              62\n",
       " Pain Management                    58\n",
       " Office Notes                       44\n",
       " Podiatry                           42\n",
       " Pediatrics - Neonatal              42\n",
       " Emergency Room Reports             31\n",
       " Dentistry                          25\n",
       " Dermatology                        25\n",
       " Cosmetic / Plastic Surgery         25\n",
       " Letters                            20\n",
       " Psychiatry / Psychology            19\n",
       " Sleep Medicine                     18\n",
       " Bariatrics                         18\n",
       " Endocrinology                      15\n",
       " Physical Medicine - Rehab          11\n",
       " Diets and Nutritions               10\n",
       " Speech - Language                   8\n",
       " Lab Medicine - Pathology            8\n",
       " Rheumatology                        7\n",
       " Hospice - Palliative Care           5\n",
       " Chiropractic                        4\n",
       " IME-QME-Work Comp etc.              4\n",
       " Allergy / Immunology                3\n",
       "Name: medical_specialty, dtype: int64"
      ]
     },
     "execution_count": 17,
     "metadata": {},
     "output_type": "execute_result"
    }
   ],
   "source": [
    "df[\"medical_specialty\"].value_counts()"
   ]
  },
  {
   "cell_type": "code",
   "execution_count": 18,
   "id": "f0b7af02",
   "metadata": {},
   "outputs": [
    {
     "data": {
      "text/plain": [
       "<AxesSubplot:xlabel='count', ylabel='medical_specialty'>"
      ]
     },
     "execution_count": 18,
     "metadata": {},
     "output_type": "execute_result"
    },
    {
     "data": {
      "image/png": "[encoded data removed]",
      "text/plain": [
       "<Figure size 1080x864 with 1 Axes>"
      ]
     },
     "metadata": {
      "needs_background": "light"
     },
     "output_type": "display_data"
    }
   ],
   "source": [
    "plt.figure(figsize=[15,12])\n",
    "sns.countplot(y=df[\"medical_specialty\"])"
   ]
  },
  {
   "cell_type": "code",
   "execution_count": 19,
   "id": "e43c13e2",
   "metadata": {},
   "outputs": [
    {
     "data": {
      "text/plain": [
       " Surgery                          1021\n",
       " Orthopedic                        303\n",
       " Cardiovascular / Pulmonary        280\n",
       " Radiology                         251\n",
       " Consult - History and Phy.        234\n",
       " Gastroenterology                  195\n",
       " Neurology                         168\n",
       " General Medicine                  146\n",
       " SOAP / Chart / Progress Notes     142\n",
       " Urology                           140\n",
       " Obstetrics / Gynecology           130\n",
       " ENT - Otolaryngology               84\n",
       " Neurosurgery                       81\n",
       " Ophthalmology                      79\n",
       " Discharge Summary                  77\n",
       " Nephrology                         63\n",
       " Hematology - Oncology              62\n",
       " Pain Management                    58\n",
       " Office Notes                       44\n",
       " Podiatry                           42\n",
       " Pediatrics - Neonatal              42\n",
       " Emergency Room Reports             31\n",
       " Dentistry                          25\n",
       " Dermatology                        25\n",
       " Cosmetic / Plastic Surgery         25\n",
       " Letters                            20\n",
       " Psychiatry / Psychology            19\n",
       " Sleep Medicine                     18\n",
       " Bariatrics                         18\n",
       " Endocrinology                      15\n",
       " Physical Medicine - Rehab          11\n",
       " Diets and Nutritions               10\n",
       " Speech - Language                   8\n",
       " Lab Medicine - Pathology            8\n",
       " Rheumatology                        7\n",
       " Hospice - Palliative Care           5\n",
       " Chiropractic                        4\n",
       " IME-QME-Work Comp etc.              4\n",
       " Allergy / Immunology                3\n",
       "Name: medical_specialty, dtype: int64"
      ]
     },
     "execution_count": 19,
     "metadata": {},
     "output_type": "execute_result"
    }
   ],
   "source": [
    "df[\"medical_specialty\"].value_counts()\n"
   ]
  },
  {
   "cell_type": "code",
   "execution_count": 20,
   "id": "be9aba6c",
   "metadata": {},
   "outputs": [],
   "source": [
    "from sklearn.preprocessing import LabelEncoder\n",
    "le= LabelEncoder()\n",
    "df[\"medical_speciality_class\"]= le.fit_transform(df[\"medical_specialty\"])"
   ]
  },
  {
   "cell_type": "code",
   "execution_count": 21,
   "id": "2557c92a",
   "metadata": {},
   "outputs": [
    {
     "data": {
      "text/html": [
       "<div>\n",
       "<style scoped>\n",
       "    .dataframe tbody tr th:only-of-type {\n",
       "        vertical-align: middle;\n",
       "    }\n",
       "\n",
       "    .dataframe tbody tr th {\n",
       "        vertical-align: top;\n",
       "    }\n",
       "\n",
       "    .dataframe thead th {\n",
       "        text-align: right;\n",
       "    }\n",
       "</style>\n",
       "<table border=\"1\" class=\"dataframe\">\n",
       "  <thead>\n",
       "    <tr style=\"text-align: right;\">\n",
       "      <th></th>\n",
       "      <th>medical_specialty</th>\n",
       "      <th>medical_speciality_class</th>\n",
       "    </tr>\n",
       "  </thead>\n",
       "  <tbody>\n",
       "    <tr>\n",
       "      <th>0</th>\n",
       "      <td>Allergy / Immunology</td>\n",
       "      <td>0</td>\n",
       "    </tr>\n",
       "    <tr>\n",
       "      <th>1</th>\n",
       "      <td>Bariatrics</td>\n",
       "      <td>1</td>\n",
       "    </tr>\n",
       "    <tr>\n",
       "      <th>2</th>\n",
       "      <td>Bariatrics</td>\n",
       "      <td>1</td>\n",
       "    </tr>\n",
       "    <tr>\n",
       "      <th>3</th>\n",
       "      <td>Cardiovascular / Pulmonary</td>\n",
       "      <td>2</td>\n",
       "    </tr>\n",
       "    <tr>\n",
       "      <th>4</th>\n",
       "      <td>Cardiovascular / Pulmonary</td>\n",
       "      <td>2</td>\n",
       "    </tr>\n",
       "    <tr>\n",
       "      <th>...</th>\n",
       "      <td>...</td>\n",
       "      <td>...</td>\n",
       "    </tr>\n",
       "    <tr>\n",
       "      <th>4984</th>\n",
       "      <td>Bariatrics</td>\n",
       "      <td>1</td>\n",
       "    </tr>\n",
       "    <tr>\n",
       "      <th>4985</th>\n",
       "      <td>Bariatrics</td>\n",
       "      <td>1</td>\n",
       "    </tr>\n",
       "    <tr>\n",
       "      <th>4989</th>\n",
       "      <td>Bariatrics</td>\n",
       "      <td>1</td>\n",
       "    </tr>\n",
       "    <tr>\n",
       "      <th>4993</th>\n",
       "      <td>Allergy / Immunology</td>\n",
       "      <td>0</td>\n",
       "    </tr>\n",
       "    <tr>\n",
       "      <th>4995</th>\n",
       "      <td>Allergy / Immunology</td>\n",
       "      <td>0</td>\n",
       "    </tr>\n",
       "  </tbody>\n",
       "</table>\n",
       "<p>3898 rows × 2 columns</p>\n",
       "</div>"
      ],
      "text/plain": [
       "                medical_specialty  medical_speciality_class\n",
       "0            Allergy / Immunology                         0\n",
       "1                      Bariatrics                         1\n",
       "2                      Bariatrics                         1\n",
       "3      Cardiovascular / Pulmonary                         2\n",
       "4      Cardiovascular / Pulmonary                         2\n",
       "...                           ...                       ...\n",
       "4984                   Bariatrics                         1\n",
       "4985                   Bariatrics                         1\n",
       "4989                   Bariatrics                         1\n",
       "4993         Allergy / Immunology                         0\n",
       "4995         Allergy / Immunology                         0\n",
       "\n",
       "[3898 rows x 2 columns]"
      ]
     },
     "execution_count": 21,
     "metadata": {},
     "output_type": "execute_result"
    }
   ],
   "source": [
    "df[[\"medical_specialty\",\"medical_speciality_class\"]]"
   ]
  },
  {
   "cell_type": "markdown",
   "id": "2908b892",
   "metadata": {},
   "source": [
    "#given the problem statements, the other column does not helps us classify the target except the keywords."
   ]
  },
  {
   "cell_type": "code",
   "execution_count": 22,
   "id": "041c5364",
   "metadata": {},
   "outputs": [],
   "source": [
    "df_p= df[[\"keywords\",\"medical_speciality_class\"]]"
   ]
  },
  {
   "cell_type": "code",
   "execution_count": 23,
   "id": "ce09bf9b",
   "metadata": {},
   "outputs": [
    {
     "data": {
      "text/html": [
       "<div>\n",
       "<style scoped>\n",
       "    .dataframe tbody tr th:only-of-type {\n",
       "        vertical-align: middle;\n",
       "    }\n",
       "\n",
       "    .dataframe tbody tr th {\n",
       "        vertical-align: top;\n",
       "    }\n",
       "\n",
       "    .dataframe thead th {\n",
       "        text-align: right;\n",
       "    }\n",
       "</style>\n",
       "<table border=\"1\" class=\"dataframe\">\n",
       "  <thead>\n",
       "    <tr style=\"text-align: right;\">\n",
       "      <th></th>\n",
       "      <th>keywords</th>\n",
       "      <th>medical_speciality_class</th>\n",
       "    </tr>\n",
       "  </thead>\n",
       "  <tbody>\n",
       "    <tr>\n",
       "      <th>0</th>\n",
       "      <td>allergy / immunology, allergic rhinitis, aller...</td>\n",
       "      <td>0</td>\n",
       "    </tr>\n",
       "    <tr>\n",
       "      <th>1</th>\n",
       "      <td>bariatrics, laparoscopic gastric bypass, weigh...</td>\n",
       "      <td>1</td>\n",
       "    </tr>\n",
       "    <tr>\n",
       "      <th>2</th>\n",
       "      <td>bariatrics, laparoscopic gastric bypass, heart...</td>\n",
       "      <td>1</td>\n",
       "    </tr>\n",
       "    <tr>\n",
       "      <th>3</th>\n",
       "      <td>cardiovascular / pulmonary, 2-d m-mode, dopple...</td>\n",
       "      <td>2</td>\n",
       "    </tr>\n",
       "    <tr>\n",
       "      <th>4</th>\n",
       "      <td>cardiovascular / pulmonary, 2-d, doppler, echo...</td>\n",
       "      <td>2</td>\n",
       "    </tr>\n",
       "    <tr>\n",
       "      <th>5</th>\n",
       "      <td>bariatrics, gastric bypass, eea anastomosis, r...</td>\n",
       "      <td>1</td>\n",
       "    </tr>\n",
       "    <tr>\n",
       "      <th>6</th>\n",
       "      <td>bariatrics, breast reconstruction, excess, lma...</td>\n",
       "      <td>1</td>\n",
       "    </tr>\n",
       "    <tr>\n",
       "      <th>7</th>\n",
       "      <td>cardiovascular / pulmonary, 2-d echocardiogram...</td>\n",
       "      <td>2</td>\n",
       "    </tr>\n",
       "    <tr>\n",
       "      <th>8</th>\n",
       "      <td>bariatrics, lipodystrophy, abd pads, suction-a...</td>\n",
       "      <td>1</td>\n",
       "    </tr>\n",
       "    <tr>\n",
       "      <th>9</th>\n",
       "      <td>cardiovascular / pulmonary, ejection fraction,...</td>\n",
       "      <td>2</td>\n",
       "    </tr>\n",
       "    <tr>\n",
       "      <th>10</th>\n",
       "      <td>bariatrics, morbid obesity, roux-en-y, gastric...</td>\n",
       "      <td>1</td>\n",
       "    </tr>\n",
       "    <tr>\n",
       "      <th>11</th>\n",
       "      <td>cardiovascular / pulmonary, 2-d study, doppler...</td>\n",
       "      <td>2</td>\n",
       "    </tr>\n",
       "    <tr>\n",
       "      <th>13</th>\n",
       "      <td>bariatrics, weight watchers, roux en y, atkins...</td>\n",
       "      <td>1</td>\n",
       "    </tr>\n",
       "    <tr>\n",
       "      <th>14</th>\n",
       "      <td>dentistry, intraoral, bony impacted teeth, thr...</td>\n",
       "      <td>6</td>\n",
       "    </tr>\n",
       "    <tr>\n",
       "      <th>15</th>\n",
       "      <td>bariatrics, laparoscopic gastric banding, pulm...</td>\n",
       "      <td>1</td>\n",
       "    </tr>\n",
       "  </tbody>\n",
       "</table>\n",
       "</div>"
      ],
      "text/plain": [
       "                                             keywords  \\\n",
       "0   allergy / immunology, allergic rhinitis, aller...   \n",
       "1   bariatrics, laparoscopic gastric bypass, weigh...   \n",
       "2   bariatrics, laparoscopic gastric bypass, heart...   \n",
       "3   cardiovascular / pulmonary, 2-d m-mode, dopple...   \n",
       "4   cardiovascular / pulmonary, 2-d, doppler, echo...   \n",
       "5   bariatrics, gastric bypass, eea anastomosis, r...   \n",
       "6   bariatrics, breast reconstruction, excess, lma...   \n",
       "7   cardiovascular / pulmonary, 2-d echocardiogram...   \n",
       "8   bariatrics, lipodystrophy, abd pads, suction-a...   \n",
       "9   cardiovascular / pulmonary, ejection fraction,...   \n",
       "10  bariatrics, morbid obesity, roux-en-y, gastric...   \n",
       "11  cardiovascular / pulmonary, 2-d study, doppler...   \n",
       "13  bariatrics, weight watchers, roux en y, atkins...   \n",
       "14  dentistry, intraoral, bony impacted teeth, thr...   \n",
       "15  bariatrics, laparoscopic gastric banding, pulm...   \n",
       "\n",
       "    medical_speciality_class  \n",
       "0                          0  \n",
       "1                          1  \n",
       "2                          1  \n",
       "3                          2  \n",
       "4                          2  \n",
       "5                          1  \n",
       "6                          1  \n",
       "7                          2  \n",
       "8                          1  \n",
       "9                          2  \n",
       "10                         1  \n",
       "11                         2  \n",
       "13                         1  \n",
       "14                         6  \n",
       "15                         1  "
      ]
     },
     "execution_count": 23,
     "metadata": {},
     "output_type": "execute_result"
    }
   ],
   "source": [
    "df_p.head(15)"
   ]
  },
  {
   "cell_type": "code",
   "execution_count": 24,
   "id": "97b7a750",
   "metadata": {},
   "outputs": [],
   "source": [
    "df_p.reset_index(drop=True, inplace=True)"
   ]
  },
  {
   "cell_type": "markdown",
   "id": "6f679590",
   "metadata": {},
   "source": [
    "###  Over-Sampling "
   ]
  },
  {
   "cell_type": "markdown",
   "id": "a21aa4d9",
   "metadata": {},
   "source": [
    "#we will be applying over-sampling on the data, since we dont have much data, so no need of under-sampling\n"
   ]
  },
  {
   "cell_type": "code",
   "execution_count": 25,
   "id": "bc1c46f8",
   "metadata": {},
   "outputs": [],
   "source": [
    "from imblearn.combine import SMOTETomek\n",
    "sampling= SMOTETomek()\n"
   ]
  },
  {
   "cell_type": "markdown",
   "id": "2a76701d",
   "metadata": {},
   "source": [
    "#### Building the imbalanced model"
   ]
  },
  {
   "cell_type": "markdown",
   "id": "81667d11",
   "metadata": {},
   "source": [
    "#### Balancing can be applied only on training dataset"
   ]
  },
  {
   "cell_type": "markdown",
   "id": "05eb8310",
   "metadata": {},
   "source": [
    "### Applying Natural Language Preprocessing on keyword features"
   ]
  },
  {
   "cell_type": "code",
   "execution_count": 26,
   "id": "f38c88bc",
   "metadata": {},
   "outputs": [
    {
     "data": {
      "text/plain": [
       "'bariatrics, weight watchers, roux en y, atkins, medifast, meridia, south beach, cabbage, diets, laparoscopic roux en y gastric bypass surgery, rice, weight loss, six weeks of medifast, weight loss modalities, body mass index, gastric bypass surgery, bariatric surgery, gastric bypass,'"
      ]
     },
     "execution_count": 26,
     "metadata": {},
     "output_type": "execute_result"
    }
   ],
   "source": [
    "re.sub(\"a-zA-Z\",\" \", df_p[\"keywords\"][12])"
   ]
  },
  {
   "cell_type": "code",
   "execution_count": 27,
   "id": "634539b6",
   "metadata": {},
   "outputs": [],
   "source": [
    "#corpus = []\n",
    "#def lemmatization(data):\n",
    "#for i in range(0, len(data)):\n",
    "#    review = re.sub('[^a-zA-Z]', ' ', data[i])\n",
    "#    review = review.lower()\n",
    "#    review = review.split()\n",
    "    \n",
    " #   review = [lemm.lemmatize(word) for word in review if not word in stopwords.words('english')]\n",
    " #   review = ' '.join(review)\n",
    " #   corpus.append(review)"
   ]
  },
  {
   "cell_type": "code",
   "execution_count": 28,
   "id": "db82a970",
   "metadata": {},
   "outputs": [],
   "source": [
    "#try:\n",
    "#  lemmatization(df_pro[\"keywords\"])\n",
    "#except:\n",
    " #   print(\"The error has occured\")\n",
    "#else:\n",
    "#    print(lemmatization(df_pro[\"keywords\"]))\n"
   ]
  },
  {
   "cell_type": "code",
   "execution_count": 29,
   "id": "ae6eb60f",
   "metadata": {},
   "outputs": [
    {
     "data": {
      "text/plain": [
       "['i',\n",
       " 'me',\n",
       " 'my',\n",
       " 'myself',\n",
       " 'we',\n",
       " 'our',\n",
       " 'ours',\n",
       " 'ourselves',\n",
       " 'you',\n",
       " \"you're\",\n",
       " \"you've\",\n",
       " \"you'll\",\n",
       " \"you'd\",\n",
       " 'your',\n",
       " 'yours',\n",
       " 'yourself',\n",
       " 'yourselves',\n",
       " 'he',\n",
       " 'him',\n",
       " 'his',\n",
       " 'himself',\n",
       " 'she',\n",
       " \"she's\",\n",
       " 'her',\n",
       " 'hers',\n",
       " 'herself',\n",
       " 'it',\n",
       " \"it's\",\n",
       " 'its',\n",
       " 'itself',\n",
       " 'they',\n",
       " 'them',\n",
       " 'their',\n",
       " 'theirs',\n",
       " 'themselves',\n",
       " 'what',\n",
       " 'which',\n",
       " 'who',\n",
       " 'whom',\n",
       " 'this',\n",
       " 'that',\n",
       " \"that'll\",\n",
       " 'these',\n",
       " 'those',\n",
       " 'am',\n",
       " 'is',\n",
       " 'are',\n",
       " 'was',\n",
       " 'were',\n",
       " 'be',\n",
       " 'been',\n",
       " 'being',\n",
       " 'have',\n",
       " 'has',\n",
       " 'had',\n",
       " 'having',\n",
       " 'do',\n",
       " 'does',\n",
       " 'did',\n",
       " 'doing',\n",
       " 'a',\n",
       " 'an',\n",
       " 'the',\n",
       " 'and',\n",
       " 'but',\n",
       " 'if',\n",
       " 'or',\n",
       " 'because',\n",
       " 'as',\n",
       " 'until',\n",
       " 'while',\n",
       " 'of',\n",
       " 'at',\n",
       " 'by',\n",
       " 'for',\n",
       " 'with',\n",
       " 'about',\n",
       " 'against',\n",
       " 'between',\n",
       " 'into',\n",
       " 'through',\n",
       " 'during',\n",
       " 'before',\n",
       " 'after',\n",
       " 'above',\n",
       " 'below',\n",
       " 'to',\n",
       " 'from',\n",
       " 'up',\n",
       " 'down',\n",
       " 'in',\n",
       " 'out',\n",
       " 'on',\n",
       " 'off',\n",
       " 'over',\n",
       " 'under',\n",
       " 'again',\n",
       " 'further',\n",
       " 'then',\n",
       " 'once',\n",
       " 'here',\n",
       " 'there',\n",
       " 'when',\n",
       " 'where',\n",
       " 'why',\n",
       " 'how',\n",
       " 'all',\n",
       " 'any',\n",
       " 'both',\n",
       " 'each',\n",
       " 'few',\n",
       " 'more',\n",
       " 'most',\n",
       " 'other',\n",
       " 'some',\n",
       " 'such',\n",
       " 'no',\n",
       " 'nor',\n",
       " 'not',\n",
       " 'only',\n",
       " 'own',\n",
       " 'same',\n",
       " 'so',\n",
       " 'than',\n",
       " 'too',\n",
       " 'very',\n",
       " 's',\n",
       " 't',\n",
       " 'can',\n",
       " 'will',\n",
       " 'just',\n",
       " 'don',\n",
       " \"don't\",\n",
       " 'should',\n",
       " \"should've\",\n",
       " 'now',\n",
       " 'd',\n",
       " 'll',\n",
       " 'm',\n",
       " 'o',\n",
       " 're',\n",
       " 've',\n",
       " 'y',\n",
       " 'ain',\n",
       " 'aren',\n",
       " \"aren't\",\n",
       " 'couldn',\n",
       " \"couldn't\",\n",
       " 'didn',\n",
       " \"didn't\",\n",
       " 'doesn',\n",
       " \"doesn't\",\n",
       " 'hadn',\n",
       " \"hadn't\",\n",
       " 'hasn',\n",
       " \"hasn't\",\n",
       " 'haven',\n",
       " \"haven't\",\n",
       " 'isn',\n",
       " \"isn't\",\n",
       " 'ma',\n",
       " 'mightn',\n",
       " \"mightn't\",\n",
       " 'mustn',\n",
       " \"mustn't\",\n",
       " 'needn',\n",
       " \"needn't\",\n",
       " 'shan',\n",
       " \"shan't\",\n",
       " 'shouldn',\n",
       " \"shouldn't\",\n",
       " 'wasn',\n",
       " \"wasn't\",\n",
       " 'weren',\n",
       " \"weren't\",\n",
       " 'won',\n",
       " \"won't\",\n",
       " 'wouldn',\n",
       " \"wouldn't\"]"
      ]
     },
     "execution_count": 29,
     "metadata": {},
     "output_type": "execute_result"
    }
   ],
   "source": [
    "stopwords.words(\"english\")"
   ]
  },
  {
   "cell_type": "code",
   "execution_count": 30,
   "id": "12adf1dd",
   "metadata": {},
   "outputs": [],
   "source": [
    "from nltk.stem import PorterStemmer\n",
    "from nltk.stem import WordNetLemmatizer\n",
    "stemming= PorterStemmer()\n",
    "lemm= WordNetLemmatizer()\n"
   ]
  },
  {
   "cell_type": "code",
   "execution_count": 31,
   "id": "bda0dc58",
   "metadata": {},
   "outputs": [],
   "source": [
    "corpus = []\n",
    "for i in range(0, len(df_p[\"keywords\"])):\n",
    "    review = re.sub('[^a-zA-Z]', ' ', df_p[\"keywords\"][i])\n",
    "    review = review.lower()\n",
    "    review = review.split()\n",
    "    \n",
    "    review = [lemm.lemmatize(word) for word in review if not word in stopwords.words('english')]\n",
    "    review = ' '.join(review)\n",
    "    corpus.append(review)"
   ]
  },
  {
   "cell_type": "code",
   "execution_count": 32,
   "id": "91a65fcd",
   "metadata": {},
   "outputs": [
    {
     "data": {
      "text/plain": [
       "'allergy immunology allergic rhinitis allergy asthma nasal spray rhinitis nasal erythematous allegra spray allergic'"
      ]
     },
     "execution_count": 32,
     "metadata": {},
     "output_type": "execute_result"
    }
   ],
   "source": [
    "corpus[0]"
   ]
  },
  {
   "cell_type": "markdown",
   "id": "036e903e",
   "metadata": {},
   "source": [
    "#we have converted the desease into list of semantic words using Wordnetlemmatizer,. Next step is to convert these list into bag of words forms."
   ]
  },
  {
   "cell_type": "code",
   "execution_count": 33,
   "id": "465c8c86",
   "metadata": {},
   "outputs": [
    {
     "data": {
      "text/plain": [
       "(3898, 5459)"
      ]
     },
     "execution_count": 33,
     "metadata": {},
     "output_type": "execute_result"
    }
   ],
   "source": [
    "#To convert the words into vectors we'll be using TFIDF vectorizer\n",
    "from sklearn.feature_extraction.text import TfidfVectorizer\n",
    "tfidf= TfidfVectorizer()\n",
    "X= tfidf.fit_transform(corpus)\n",
    "X.shape"
   ]
  },
  {
   "cell_type": "code",
   "execution_count": 34,
   "id": "69034f1f",
   "metadata": {},
   "outputs": [],
   "source": [
    "Y= df[\"medical_speciality_class\"]"
   ]
  },
  {
   "cell_type": "code",
   "execution_count": 35,
   "id": "4bcea008",
   "metadata": {},
   "outputs": [],
   "source": [
    "#### Train test split on imbalanced data\n",
    "from sklearn.model_selection import train_test_split\n",
    "x_train, x_test,y_train,  y_test= train_test_split(X,Y,test_size=0.2, random_state=42)"
   ]
  },
  {
   "cell_type": "code",
   "execution_count": 36,
   "id": "809e7c1e",
   "metadata": {},
   "outputs": [
    {
     "name": "stdout",
     "output_type": "stream",
     "text": [
      "The length of the train data is:- \n",
      " (3118, 5459) (3118,) \n",
      " The length of the text data is:- (780, 5459) (780,)\n"
     ]
    }
   ],
   "source": [
    "print(\"The length of the train data is:- \\n\", x_train.shape, y_train.shape,\"\\n\",\n",
    "     \"The length of the text data is:-\", x_test.shape, y_test.shape)"
   ]
  },
  {
   "cell_type": "code",
   "execution_count": 37,
   "id": "fa8ad576",
   "metadata": {},
   "outputs": [],
   "source": [
    "Y_train= np.array(y_train)\n",
    "Y_train= Y_train.reshape(-1,1)\n",
    "Y_test= np.array(y_test).reshape(-1,1)"
   ]
  },
  {
   "cell_type": "code",
   "execution_count": 38,
   "id": "bcedbb23",
   "metadata": {},
   "outputs": [
    {
     "name": "stdout",
     "output_type": "stream",
     "text": [
      "The confusion matrix for Imbalnced- decision tree data is:-\n",
      " [[  0   0   0 ...   0   0   0]\n",
      " [  0   4   0 ...   0   3   0]\n",
      " [  0   0  60 ...   0   0   0]\n",
      " ...\n",
      " [  0   0   0 ...   2   0   0]\n",
      " [  0   0   0 ...   0 220   0]\n",
      " [  0   0   0 ...   0   0  31]] /n Classification Report- Imbalanced DecisionTree :-                precision    recall  f1-score   support\n",
      "\n",
      "           0       0.00      0.00      0.00         2\n",
      "           1       1.00      0.57      0.73         7\n",
      "           2       1.00      0.98      0.99        61\n",
      "           3       0.00      0.00      0.00         1\n",
      "           4       0.81      1.00      0.90        48\n",
      "           5       1.00      1.00      1.00         7\n",
      "           6       0.86      0.86      0.86         7\n",
      "           7       1.00      1.00      1.00         4\n",
      "           8       1.00      1.00      1.00         3\n",
      "           9       1.00      1.00      1.00        12\n",
      "          10       1.00      0.94      0.97        18\n",
      "          11       1.00      1.00      1.00         6\n",
      "          12       1.00      1.00      1.00         5\n",
      "          13       1.00      1.00      1.00        34\n",
      "          14       1.00      0.85      0.92        26\n",
      "          15       1.00      1.00      1.00        11\n",
      "          18       1.00      1.00      1.00         3\n",
      "          19       0.75      0.43      0.55         7\n",
      "          20       1.00      1.00      1.00         9\n",
      "          21       0.91      0.97      0.94        33\n",
      "          22       1.00      1.00      1.00        19\n",
      "          23       1.00      1.00      1.00        18\n",
      "          24       1.00      0.83      0.91         6\n",
      "          25       0.94      0.94      0.94        16\n",
      "          26       0.98      1.00      0.99        51\n",
      "          27       1.00      1.00      1.00         9\n",
      "          28       1.00      1.00      1.00         3\n",
      "          29       1.00      1.00      1.00         2\n",
      "          30       1.00      1.00      1.00        10\n",
      "          31       1.00      0.83      0.91         6\n",
      "          32       1.00      1.00      1.00        51\n",
      "          33       1.00      1.00      1.00         3\n",
      "          34       1.00      1.00      1.00        24\n",
      "          35       1.00      1.00      1.00         2\n",
      "          36       1.00      1.00      1.00         2\n",
      "          37       0.98      0.99      0.98       223\n",
      "          38       0.97      1.00      0.98        31\n",
      "\n",
      "    accuracy                           0.97       780\n",
      "   macro avg       0.92      0.90      0.91       780\n",
      "weighted avg       0.97      0.97      0.97       780\n",
      "\n"
     ]
    },
    {
     "data": {
      "text/plain": [
       "0.9692307692307692"
      ]
     },
     "execution_count": 38,
     "metadata": {},
     "output_type": "execute_result"
    }
   ],
   "source": [
    "#Building the imbalanced model\n",
    "from sklearn.tree import DecisionTreeClassifier\n",
    "from sklearn.metrics import plot_roc_curve, plot_precision_recall_curve, confusion_matrix, classification_report, accuracy_score\n",
    "\n",
    "tree= DecisionTreeClassifier()\n",
    "tree.fit(x_train, y_train)\n",
    "pred= tree.predict(x_test)\n",
    "y_score= tree.predict_proba(x_test)\n",
    "train_pred= tree.predict(x_train)\n",
    "\n",
    "print(\"The confusion matrix for Imbalnced- decision tree data is:-\\n\", confusion_matrix(y_test, pred),\"/n\",\n",
    "     \"Classification Report- Imbalanced DecisionTree :- \", classification_report(y_test, pred))\n",
    "\n",
    "accuracy_score(y_test, pred)"
   ]
  },
  {
   "cell_type": "code",
   "execution_count": 39,
   "id": "461eedbd",
   "metadata": {},
   "outputs": [
    {
     "name": "stdout",
     "output_type": "stream",
     "text": [
      "37\n"
     ]
    },
    {
     "ename": "ValueError",
     "evalue": "Expected 2D array, got 1D array instead:\narray=[ 2. 37. 37. 25. 32. 37. 26. 32.  2. 11. 22. 30.  2.  5. 14.  4. 32.  1.\n 37. 32. 37. 37.  2.  1. 26. 37. 14. 30. 22. 34.  2. 26. 38. 37. 32. 10.\n  4. 14. 25.  2. 26.  9. 38.  4. 37. 10.  2. 23.  5. 22.  2. 10. 32.  2.\n  2. 34. 34. 26. 12. 28.  2. 37. 21. 21. 37.  9. 29. 37.  4. 24. 32. 14.\n 37. 37. 37. 32. 30. 24. 26.  4. 36.  9. 37. 21. 37. 22.  7. 37. 21.  9.\n 20. 37. 23. 25. 18.  2. 37. 37. 14. 12. 37.  2. 14. 21. 37. 37. 37. 26.\n 37. 37.  1. 14. 26. 20. 37. 26. 21. 37.  2. 37. 38. 37. 30.  4. 37. 37.\n 21. 13. 23. 13. 21. 10. 13. 22. 37. 32. 37. 32. 38. 23. 32.  4. 25. 15.\n 32. 37. 12. 37. 37. 37.  2. 30. 21.  1. 37. 37. 27. 37. 37. 14. 37. 31.\n  7.  4. 37. 21. 10. 37. 13. 38. 22. 25. 26. 32. 37.  4. 34.  4.  2. 38.\n 34. 32. 37. 37. 37. 37. 26. 14. 37. 23.  9. 20. 37.  2.  2.  2. 37. 19.\n 37. 25.  6. 37. 38. 32. 35.  0.  4. 26. 37. 38. 28. 32. 31. 38. 22. 21.\n  2. 30. 21. 21. 14. 37.  2. 37. 37. 32. 37. 37.  4. 38. 34. 37. 37. 38.\n 37. 37. 21. 38. 32. 12. 32. 37. 37. 37. 21. 13. 38.  4. 37. 37. 37. 21.\n 37.  4. 37. 37. 18.  4. 37. 11. 20. 32.  3. 21. 22. 26. 37. 37.  5. 26.\n 37. 14. 30.  2. 37. 21. 19. 26. 19. 37.  4. 37. 32. 21. 36.  2. 27. 26.\n 14. 24. 22. 25.  2. 38. 37.  5.  2. 37. 32. 15. 27. 32. 23. 13. 21. 37.\n 10. 26. 15. 37. 37. 11. 23. 37. 13. 32.  6. 27. 27. 37.  1. 37.  4. 37.\n 14. 15. 14.  2. 37. 37. 37. 21. 37. 26.  4. 34. 37.  2.  4. 23. 37. 25.\n 37. 37.  4. 34.  2.  2. 26.  2. 37. 26. 14. 38. 32. 38.  4. 37. 37. 26.\n 32. 15. 38. 35. 11. 37. 37. 26. 25. 10. 37. 21. 37. 13. 38.  5. 37. 37.\n 34.  4. 25. 37. 31. 13. 32. 37. 34. 37.  4. 10. 30. 26. 21. 26. 37. 33.\n 13. 37. 37. 13. 37. 32. 37. 32. 14. 26. 37. 15. 10. 23. 34. 26. 26.  2.\n 25.  9. 24.  6.  4. 11. 37. 32. 13. 37. 26. 37. 38. 38. 24.  4. 37. 25.\n 37.  8. 21. 10. 34. 23. 23. 23. 37. 10. 37.  4.  2.  2. 38. 37.  4. 37.\n 29.  4.  4. 25. 37. 33.  2. 37. 38. 10.  4. 13. 26. 23. 34. 37. 32. 21.\n  9. 37. 38. 25. 37. 37.  2. 34. 20.  2. 13. 38.  4. 37.  2.  2. 26. 20.\n 37. 27.  2. 37.  4. 37. 32. 38. 37.  2. 34. 37.  2. 13. 37. 37.  1. 37.\n 26. 37. 37. 37. 37. 37. 13. 26. 13. 37.  2. 37. 26.  9. 22. 37. 37. 37.\n 37. 37. 38. 34. 31.  4.  7. 13. 37. 37. 37. 26. 34.  2. 37. 26. 15. 37.\n  8. 22.  7. 32.  6. 38. 37. 37. 33. 37. 26. 37. 23. 26. 30.  2. 14. 26.\n  2.  4.  2. 21. 37. 34. 32. 14.  4. 37. 37. 26. 22. 13. 37. 37. 38.  2.\n 32.  4. 38. 10. 37. 31. 37. 26.  2. 14. 37. 37.  4. 12. 23.  6.  2. 37.\n 32. 34. 10. 26. 37. 37.  4.  2. 26. 18. 14.  4. 20. 26. 32. 37. 23. 37.\n 19. 32. 37. 37. 37. 30. 22. 34. 21. 15. 37. 13.  2. 34. 37. 26. 13. 14.\n 32. 34. 31. 32. 37. 15. 13.  4. 26. 11. 26. 34. 32.  9. 37. 37. 10. 37.\n 37. 10.  6. 27. 21. 25. 37. 37. 23. 13. 37. 19. 37. 28. 19. 23. 26. 37.\n 21. 15.  2. 13. 24. 13.  2. 37.  9. 37. 37. 26. 26. 13. 37. 10.  1. 38.\n  4. 26. 37. 20.  2. 37.  2.  2. 37. 22. 22. 37. 21.  4. 15. 38. 37. 32.\n 14. 21. 13. 27.  9. 37.  6.  4. 21. 32. 14.  5. 32. 20. 22. 34. 37. 37.\n 37. 13. 37. 32. 37. 10.  4. 26. 37. 13.  2. 37. 32.  2. 37. 13. 37. 25.\n 32. 37. 37. 32. 37. 37. 19. 37. 22. 37. 37.  4. 37.  2. 21.  8. 32. 32.\n 14.  4. 14. 13. 22. 13. 27. 32.  2.  4. 37. 14. 37.  4.  0. 13.  5.  2.\n  9. 22. 37. 37. 13. 37.].\nReshape your data either using array.reshape(-1, 1) if your data has a single feature or array.reshape(1, -1) if it contains a single sample.",
     "output_type": "error",
     "traceback": [
      "\u001b[1;31m---------------------------------------------------------------------------\u001b[0m",
      "\u001b[1;31mValueError\u001b[0m                                Traceback (most recent call last)",
      "\u001b[1;32m~\\AppData\\Local\\Temp/ipykernel_7480/2533797977.py\u001b[0m in \u001b[0;36m<module>\u001b[1;34m\u001b[0m\n\u001b[0;32m      1\u001b[0m \u001b[0mprint\u001b[0m\u001b[1;33m(\u001b[0m\u001b[0mpred\u001b[0m\u001b[1;33m[\u001b[0m\u001b[1;36m1\u001b[0m\u001b[1;33m]\u001b[0m\u001b[1;33m)\u001b[0m\u001b[1;33m\u001b[0m\u001b[1;33m\u001b[0m\u001b[0m\n\u001b[0;32m      2\u001b[0m \u001b[0my_pred\u001b[0m\u001b[1;33m=\u001b[0m \u001b[0mnp\u001b[0m\u001b[1;33m.\u001b[0m\u001b[0mtranspose\u001b[0m\u001b[1;33m(\u001b[0m\u001b[0mpred\u001b[0m\u001b[1;33m)\u001b[0m\u001b[1;33m\u001b[0m\u001b[1;33m\u001b[0m\u001b[0m\n\u001b[1;32m----> 3\u001b[1;33m \u001b[0mplot_precision_recall_curve\u001b[0m\u001b[1;33m(\u001b[0m\u001b[0mtree\u001b[0m\u001b[1;33m,\u001b[0m \u001b[0my_test\u001b[0m\u001b[1;33m,\u001b[0m \u001b[0mpred\u001b[0m\u001b[1;33m.\u001b[0m\u001b[0mreshape\u001b[0m\u001b[1;33m(\u001b[0m\u001b[1;33m-\u001b[0m\u001b[1;36m1\u001b[0m\u001b[1;33m,\u001b[0m\u001b[1;36m1\u001b[0m\u001b[1;33m)\u001b[0m\u001b[1;33m)\u001b[0m\u001b[1;33m\u001b[0m\u001b[1;33m\u001b[0m\u001b[0m\n\u001b[0m\u001b[0;32m      4\u001b[0m \u001b[0mplt\u001b[0m\u001b[1;33m.\u001b[0m\u001b[0mshow\u001b[0m\u001b[1;33m(\u001b[0m\u001b[1;33m)\u001b[0m\u001b[1;33m\u001b[0m\u001b[1;33m\u001b[0m\u001b[0m\n",
      "\u001b[1;32m~\\anaconda3\\lib\\site-packages\\sklearn\\utils\\deprecation.py\u001b[0m in \u001b[0;36mwrapped\u001b[1;34m(*args, **kwargs)\u001b[0m\n\u001b[0;32m     86\u001b[0m         \u001b[1;32mdef\u001b[0m \u001b[0mwrapped\u001b[0m\u001b[1;33m(\u001b[0m\u001b[1;33m*\u001b[0m\u001b[0margs\u001b[0m\u001b[1;33m,\u001b[0m \u001b[1;33m**\u001b[0m\u001b[0mkwargs\u001b[0m\u001b[1;33m)\u001b[0m\u001b[1;33m:\u001b[0m\u001b[1;33m\u001b[0m\u001b[1;33m\u001b[0m\u001b[0m\n\u001b[0;32m     87\u001b[0m             \u001b[0mwarnings\u001b[0m\u001b[1;33m.\u001b[0m\u001b[0mwarn\u001b[0m\u001b[1;33m(\u001b[0m\u001b[0mmsg\u001b[0m\u001b[1;33m,\u001b[0m \u001b[0mcategory\u001b[0m\u001b[1;33m=\u001b[0m\u001b[0mFutureWarning\u001b[0m\u001b[1;33m)\u001b[0m\u001b[1;33m\u001b[0m\u001b[1;33m\u001b[0m\u001b[0m\n\u001b[1;32m---> 88\u001b[1;33m             \u001b[1;32mreturn\u001b[0m \u001b[0mfun\u001b[0m\u001b[1;33m(\u001b[0m\u001b[1;33m*\u001b[0m\u001b[0margs\u001b[0m\u001b[1;33m,\u001b[0m \u001b[1;33m**\u001b[0m\u001b[0mkwargs\u001b[0m\u001b[1;33m)\u001b[0m\u001b[1;33m\u001b[0m\u001b[1;33m\u001b[0m\u001b[0m\n\u001b[0m\u001b[0;32m     89\u001b[0m \u001b[1;33m\u001b[0m\u001b[0m\n\u001b[0;32m     90\u001b[0m         \u001b[0mwrapped\u001b[0m\u001b[1;33m.\u001b[0m\u001b[0m__doc__\u001b[0m \u001b[1;33m=\u001b[0m \u001b[0mself\u001b[0m\u001b[1;33m.\u001b[0m\u001b[0m_update_doc\u001b[0m\u001b[1;33m(\u001b[0m\u001b[0mwrapped\u001b[0m\u001b[1;33m.\u001b[0m\u001b[0m__doc__\u001b[0m\u001b[1;33m)\u001b[0m\u001b[1;33m\u001b[0m\u001b[1;33m\u001b[0m\u001b[0m\n",
      "\u001b[1;32m~\\anaconda3\\lib\\site-packages\\sklearn\\metrics\\_plot\\precision_recall_curve.py\u001b[0m in \u001b[0;36mplot_precision_recall_curve\u001b[1;34m(estimator, X, y, sample_weight, response_method, name, ax, pos_label, **kwargs)\u001b[0m\n\u001b[0;32m    431\u001b[0m     \u001b[0mcheck_matplotlib_support\u001b[0m\u001b[1;33m(\u001b[0m\u001b[1;34m\"plot_precision_recall_curve\"\u001b[0m\u001b[1;33m)\u001b[0m\u001b[1;33m\u001b[0m\u001b[1;33m\u001b[0m\u001b[0m\n\u001b[0;32m    432\u001b[0m \u001b[1;33m\u001b[0m\u001b[0m\n\u001b[1;32m--> 433\u001b[1;33m     y_pred, pos_label = _get_response(\n\u001b[0m\u001b[0;32m    434\u001b[0m         \u001b[0mX\u001b[0m\u001b[1;33m,\u001b[0m \u001b[0mestimator\u001b[0m\u001b[1;33m,\u001b[0m \u001b[0mresponse_method\u001b[0m\u001b[1;33m,\u001b[0m \u001b[0mpos_label\u001b[0m\u001b[1;33m=\u001b[0m\u001b[0mpos_label\u001b[0m\u001b[1;33m\u001b[0m\u001b[1;33m\u001b[0m\u001b[0m\n\u001b[0;32m    435\u001b[0m     )\n",
      "\u001b[1;32m~\\anaconda3\\lib\\site-packages\\sklearn\\metrics\\_plot\\base.py\u001b[0m in \u001b[0;36m_get_response\u001b[1;34m(X, estimator, response_method, pos_label)\u001b[0m\n\u001b[0;32m     90\u001b[0m \u001b[1;33m\u001b[0m\u001b[0m\n\u001b[0;32m     91\u001b[0m     \u001b[0mprediction_method\u001b[0m \u001b[1;33m=\u001b[0m \u001b[0m_check_classifier_response_method\u001b[0m\u001b[1;33m(\u001b[0m\u001b[0mestimator\u001b[0m\u001b[1;33m,\u001b[0m \u001b[0mresponse_method\u001b[0m\u001b[1;33m)\u001b[0m\u001b[1;33m\u001b[0m\u001b[1;33m\u001b[0m\u001b[0m\n\u001b[1;32m---> 92\u001b[1;33m     \u001b[0my_pred\u001b[0m \u001b[1;33m=\u001b[0m \u001b[0mprediction_method\u001b[0m\u001b[1;33m(\u001b[0m\u001b[0mX\u001b[0m\u001b[1;33m)\u001b[0m\u001b[1;33m\u001b[0m\u001b[1;33m\u001b[0m\u001b[0m\n\u001b[0m\u001b[0;32m     93\u001b[0m     \u001b[1;32mif\u001b[0m \u001b[0mpos_label\u001b[0m \u001b[1;32mis\u001b[0m \u001b[1;32mnot\u001b[0m \u001b[1;32mNone\u001b[0m\u001b[1;33m:\u001b[0m\u001b[1;33m\u001b[0m\u001b[1;33m\u001b[0m\u001b[0m\n\u001b[0;32m     94\u001b[0m         \u001b[1;32mtry\u001b[0m\u001b[1;33m:\u001b[0m\u001b[1;33m\u001b[0m\u001b[1;33m\u001b[0m\u001b[0m\n",
      "\u001b[1;32m~\\anaconda3\\lib\\site-packages\\sklearn\\tree\\_classes.py\u001b[0m in \u001b[0;36mpredict_proba\u001b[1;34m(self, X, check_input)\u001b[0m\n\u001b[0;32m    969\u001b[0m         \"\"\"\n\u001b[0;32m    970\u001b[0m         \u001b[0mcheck_is_fitted\u001b[0m\u001b[1;33m(\u001b[0m\u001b[0mself\u001b[0m\u001b[1;33m)\u001b[0m\u001b[1;33m\u001b[0m\u001b[1;33m\u001b[0m\u001b[0m\n\u001b[1;32m--> 971\u001b[1;33m         \u001b[0mX\u001b[0m \u001b[1;33m=\u001b[0m \u001b[0mself\u001b[0m\u001b[1;33m.\u001b[0m\u001b[0m_validate_X_predict\u001b[0m\u001b[1;33m(\u001b[0m\u001b[0mX\u001b[0m\u001b[1;33m,\u001b[0m \u001b[0mcheck_input\u001b[0m\u001b[1;33m)\u001b[0m\u001b[1;33m\u001b[0m\u001b[1;33m\u001b[0m\u001b[0m\n\u001b[0m\u001b[0;32m    972\u001b[0m         \u001b[0mproba\u001b[0m \u001b[1;33m=\u001b[0m \u001b[0mself\u001b[0m\u001b[1;33m.\u001b[0m\u001b[0mtree_\u001b[0m\u001b[1;33m.\u001b[0m\u001b[0mpredict\u001b[0m\u001b[1;33m(\u001b[0m\u001b[0mX\u001b[0m\u001b[1;33m)\u001b[0m\u001b[1;33m\u001b[0m\u001b[1;33m\u001b[0m\u001b[0m\n\u001b[0;32m    973\u001b[0m \u001b[1;33m\u001b[0m\u001b[0m\n",
      "\u001b[1;32m~\\anaconda3\\lib\\site-packages\\sklearn\\tree\\_classes.py\u001b[0m in \u001b[0;36m_validate_X_predict\u001b[1;34m(self, X, check_input)\u001b[0m\n\u001b[0;32m    431\u001b[0m         \u001b[1;34m\"\"\"Validate the training data on predict (probabilities).\"\"\"\u001b[0m\u001b[1;33m\u001b[0m\u001b[1;33m\u001b[0m\u001b[0m\n\u001b[0;32m    432\u001b[0m         \u001b[1;32mif\u001b[0m \u001b[0mcheck_input\u001b[0m\u001b[1;33m:\u001b[0m\u001b[1;33m\u001b[0m\u001b[1;33m\u001b[0m\u001b[0m\n\u001b[1;32m--> 433\u001b[1;33m             \u001b[0mX\u001b[0m \u001b[1;33m=\u001b[0m \u001b[0mself\u001b[0m\u001b[1;33m.\u001b[0m\u001b[0m_validate_data\u001b[0m\u001b[1;33m(\u001b[0m\u001b[0mX\u001b[0m\u001b[1;33m,\u001b[0m \u001b[0mdtype\u001b[0m\u001b[1;33m=\u001b[0m\u001b[0mDTYPE\u001b[0m\u001b[1;33m,\u001b[0m \u001b[0maccept_sparse\u001b[0m\u001b[1;33m=\u001b[0m\u001b[1;34m\"csr\"\u001b[0m\u001b[1;33m,\u001b[0m \u001b[0mreset\u001b[0m\u001b[1;33m=\u001b[0m\u001b[1;32mFalse\u001b[0m\u001b[1;33m)\u001b[0m\u001b[1;33m\u001b[0m\u001b[1;33m\u001b[0m\u001b[0m\n\u001b[0m\u001b[0;32m    434\u001b[0m             if issparse(X) and (\n\u001b[0;32m    435\u001b[0m                 \u001b[0mX\u001b[0m\u001b[1;33m.\u001b[0m\u001b[0mindices\u001b[0m\u001b[1;33m.\u001b[0m\u001b[0mdtype\u001b[0m \u001b[1;33m!=\u001b[0m \u001b[0mnp\u001b[0m\u001b[1;33m.\u001b[0m\u001b[0mintc\u001b[0m \u001b[1;32mor\u001b[0m \u001b[0mX\u001b[0m\u001b[1;33m.\u001b[0m\u001b[0mindptr\u001b[0m\u001b[1;33m.\u001b[0m\u001b[0mdtype\u001b[0m \u001b[1;33m!=\u001b[0m \u001b[0mnp\u001b[0m\u001b[1;33m.\u001b[0m\u001b[0mintc\u001b[0m\u001b[1;33m\u001b[0m\u001b[1;33m\u001b[0m\u001b[0m\n",
      "\u001b[1;32m~\\anaconda3\\lib\\site-packages\\sklearn\\base.py\u001b[0m in \u001b[0;36m_validate_data\u001b[1;34m(self, X, y, reset, validate_separately, **check_params)\u001b[0m\n\u001b[0;32m    559\u001b[0m             \u001b[1;32mraise\u001b[0m \u001b[0mValueError\u001b[0m\u001b[1;33m(\u001b[0m\u001b[1;34m\"Validation should be done on X, y or both.\"\u001b[0m\u001b[1;33m)\u001b[0m\u001b[1;33m\u001b[0m\u001b[1;33m\u001b[0m\u001b[0m\n\u001b[0;32m    560\u001b[0m         \u001b[1;32melif\u001b[0m \u001b[1;32mnot\u001b[0m \u001b[0mno_val_X\u001b[0m \u001b[1;32mand\u001b[0m \u001b[0mno_val_y\u001b[0m\u001b[1;33m:\u001b[0m\u001b[1;33m\u001b[0m\u001b[1;33m\u001b[0m\u001b[0m\n\u001b[1;32m--> 561\u001b[1;33m             \u001b[0mX\u001b[0m \u001b[1;33m=\u001b[0m \u001b[0mcheck_array\u001b[0m\u001b[1;33m(\u001b[0m\u001b[0mX\u001b[0m\u001b[1;33m,\u001b[0m \u001b[1;33m**\u001b[0m\u001b[0mcheck_params\u001b[0m\u001b[1;33m)\u001b[0m\u001b[1;33m\u001b[0m\u001b[1;33m\u001b[0m\u001b[0m\n\u001b[0m\u001b[0;32m    562\u001b[0m             \u001b[0mout\u001b[0m \u001b[1;33m=\u001b[0m \u001b[0mX\u001b[0m\u001b[1;33m\u001b[0m\u001b[1;33m\u001b[0m\u001b[0m\n\u001b[0;32m    563\u001b[0m         \u001b[1;32melif\u001b[0m \u001b[0mno_val_X\u001b[0m \u001b[1;32mand\u001b[0m \u001b[1;32mnot\u001b[0m \u001b[0mno_val_y\u001b[0m\u001b[1;33m:\u001b[0m\u001b[1;33m\u001b[0m\u001b[1;33m\u001b[0m\u001b[0m\n",
      "\u001b[1;32m~\\anaconda3\\lib\\site-packages\\sklearn\\utils\\validation.py\u001b[0m in \u001b[0;36mcheck_array\u001b[1;34m(array, accept_sparse, accept_large_sparse, dtype, order, copy, force_all_finite, ensure_2d, allow_nd, ensure_min_samples, ensure_min_features, estimator)\u001b[0m\n\u001b[0;32m    759\u001b[0m             \u001b[1;31m# If input is 1D raise error\u001b[0m\u001b[1;33m\u001b[0m\u001b[1;33m\u001b[0m\u001b[1;33m\u001b[0m\u001b[0m\n\u001b[0;32m    760\u001b[0m             \u001b[1;32mif\u001b[0m \u001b[0marray\u001b[0m\u001b[1;33m.\u001b[0m\u001b[0mndim\u001b[0m \u001b[1;33m==\u001b[0m \u001b[1;36m1\u001b[0m\u001b[1;33m:\u001b[0m\u001b[1;33m\u001b[0m\u001b[1;33m\u001b[0m\u001b[0m\n\u001b[1;32m--> 761\u001b[1;33m                 raise ValueError(\n\u001b[0m\u001b[0;32m    762\u001b[0m                     \u001b[1;34m\"Expected 2D array, got 1D array instead:\\narray={}.\\n\"\u001b[0m\u001b[1;33m\u001b[0m\u001b[1;33m\u001b[0m\u001b[0m\n\u001b[0;32m    763\u001b[0m                     \u001b[1;34m\"Reshape your data either using array.reshape(-1, 1) if \"\u001b[0m\u001b[1;33m\u001b[0m\u001b[1;33m\u001b[0m\u001b[0m\n",
      "\u001b[1;31mValueError\u001b[0m: Expected 2D array, got 1D array instead:\narray=[ 2. 37. 37. 25. 32. 37. 26. 32.  2. 11. 22. 30.  2.  5. 14.  4. 32.  1.\n 37. 32. 37. 37.  2.  1. 26. 37. 14. 30. 22. 34.  2. 26. 38. 37. 32. 10.\n  4. 14. 25.  2. 26.  9. 38.  4. 37. 10.  2. 23.  5. 22.  2. 10. 32.  2.\n  2. 34. 34. 26. 12. 28.  2. 37. 21. 21. 37.  9. 29. 37.  4. 24. 32. 14.\n 37. 37. 37. 32. 30. 24. 26.  4. 36.  9. 37. 21. 37. 22.  7. 37. 21.  9.\n 20. 37. 23. 25. 18.  2. 37. 37. 14. 12. 37.  2. 14. 21. 37. 37. 37. 26.\n 37. 37.  1. 14. 26. 20. 37. 26. 21. 37.  2. 37. 38. 37. 30.  4. 37. 37.\n 21. 13. 23. 13. 21. 10. 13. 22. 37. 32. 37. 32. 38. 23. 32.  4. 25. 15.\n 32. 37. 12. 37. 37. 37.  2. 30. 21.  1. 37. 37. 27. 37. 37. 14. 37. 31.\n  7.  4. 37. 21. 10. 37. 13. 38. 22. 25. 26. 32. 37.  4. 34.  4.  2. 38.\n 34. 32. 37. 37. 37. 37. 26. 14. 37. 23.  9. 20. 37.  2.  2.  2. 37. 19.\n 37. 25.  6. 37. 38. 32. 35.  0.  4. 26. 37. 38. 28. 32. 31. 38. 22. 21.\n  2. 30. 21. 21. 14. 37.  2. 37. 37. 32. 37. 37.  4. 38. 34. 37. 37. 38.\n 37. 37. 21. 38. 32. 12. 32. 37. 37. 37. 21. 13. 38.  4. 37. 37. 37. 21.\n 37.  4. 37. 37. 18.  4. 37. 11. 20. 32.  3. 21. 22. 26. 37. 37.  5. 26.\n 37. 14. 30.  2. 37. 21. 19. 26. 19. 37.  4. 37. 32. 21. 36.  2. 27. 26.\n 14. 24. 22. 25.  2. 38. 37.  5.  2. 37. 32. 15. 27. 32. 23. 13. 21. 37.\n 10. 26. 15. 37. 37. 11. 23. 37. 13. 32.  6. 27. 27. 37.  1. 37.  4. 37.\n 14. 15. 14.  2. 37. 37. 37. 21. 37. 26.  4. 34. 37.  2.  4. 23. 37. 25.\n 37. 37.  4. 34.  2.  2. 26.  2. 37. 26. 14. 38. 32. 38.  4. 37. 37. 26.\n 32. 15. 38. 35. 11. 37. 37. 26. 25. 10. 37. 21. 37. 13. 38.  5. 37. 37.\n 34.  4. 25. 37. 31. 13. 32. 37. 34. 37.  4. 10. 30. 26. 21. 26. 37. 33.\n 13. 37. 37. 13. 37. 32. 37. 32. 14. 26. 37. 15. 10. 23. 34. 26. 26.  2.\n 25.  9. 24.  6.  4. 11. 37. 32. 13. 37. 26. 37. 38. 38. 24.  4. 37. 25.\n 37.  8. 21. 10. 34. 23. 23. 23. 37. 10. 37.  4.  2.  2. 38. 37.  4. 37.\n 29.  4.  4. 25. 37. 33.  2. 37. 38. 10.  4. 13. 26. 23. 34. 37. 32. 21.\n  9. 37. 38. 25. 37. 37.  2. 34. 20.  2. 13. 38.  4. 37.  2.  2. 26. 20.\n 37. 27.  2. 37.  4. 37. 32. 38. 37.  2. 34. 37.  2. 13. 37. 37.  1. 37.\n 26. 37. 37. 37. 37. 37. 13. 26. 13. 37.  2. 37. 26.  9. 22. 37. 37. 37.\n 37. 37. 38. 34. 31.  4.  7. 13. 37. 37. 37. 26. 34.  2. 37. 26. 15. 37.\n  8. 22.  7. 32.  6. 38. 37. 37. 33. 37. 26. 37. 23. 26. 30.  2. 14. 26.\n  2.  4.  2. 21. 37. 34. 32. 14.  4. 37. 37. 26. 22. 13. 37. 37. 38.  2.\n 32.  4. 38. 10. 37. 31. 37. 26.  2. 14. 37. 37.  4. 12. 23.  6.  2. 37.\n 32. 34. 10. 26. 37. 37.  4.  2. 26. 18. 14.  4. 20. 26. 32. 37. 23. 37.\n 19. 32. 37. 37. 37. 30. 22. 34. 21. 15. 37. 13.  2. 34. 37. 26. 13. 14.\n 32. 34. 31. 32. 37. 15. 13.  4. 26. 11. 26. 34. 32.  9. 37. 37. 10. 37.\n 37. 10.  6. 27. 21. 25. 37. 37. 23. 13. 37. 19. 37. 28. 19. 23. 26. 37.\n 21. 15.  2. 13. 24. 13.  2. 37.  9. 37. 37. 26. 26. 13. 37. 10.  1. 38.\n  4. 26. 37. 20.  2. 37.  2.  2. 37. 22. 22. 37. 21.  4. 15. 38. 37. 32.\n 14. 21. 13. 27.  9. 37.  6.  4. 21. 32. 14.  5. 32. 20. 22. 34. 37. 37.\n 37. 13. 37. 32. 37. 10.  4. 26. 37. 13.  2. 37. 32.  2. 37. 13. 37. 25.\n 32. 37. 37. 32. 37. 37. 19. 37. 22. 37. 37.  4. 37.  2. 21.  8. 32. 32.\n 14.  4. 14. 13. 22. 13. 27. 32.  2.  4. 37. 14. 37.  4.  0. 13.  5.  2.\n  9. 22. 37. 37. 13. 37.].\nReshape your data either using array.reshape(-1, 1) if your data has a single feature or array.reshape(1, -1) if it contains a single sample."
     ]
    }
   ],
   "source": [
    "print(pred[1])\n",
    "y_pred= np.transpose(pred)\n",
    "plot_precision_recall_curve(tree, y_test, pred.reshape(-1,1))\n",
    "plt.show()"
   ]
  },
  {
   "cell_type": "code",
   "execution_count": null,
   "id": "d8dad090",
   "metadata": {},
   "outputs": [],
   "source": [
    "y_pred= np.array(pred).reshape(-1,1)\n",
    "#plot the metrics\n",
    "plot_roc_curve(tree, y_test, pred)\n",
    "plt.show()\n",
    "\n"
   ]
  },
  {
   "cell_type": "markdown",
   "id": "b0394eb3",
   "metadata": {},
   "source": [
    "##### Inference:- we have converted the text into semantic vectors, "
   ]
  },
  {
   "cell_type": "code",
   "execution_count": null,
   "id": "8f791653",
   "metadata": {},
   "outputs": [],
   "source": []
  },
  {
   "cell_type": "code",
   "execution_count": null,
   "id": "eac7edaf",
   "metadata": {},
   "outputs": [],
   "source": [
    "import imblearn\n",
    "print(imblearn.__version__)"
   ]
  },
  {
   "cell_type": "code",
   "execution_count": null,
   "id": "b3c8557b",
   "metadata": {},
   "outputs": [],
   "source": [
    "# handling imbalanced dataset by oversampling\n",
    "from imblearn.over_sampling import SMOTE\n"
   ]
  },
  {
   "cell_type": "code",
   "execution_count": null,
   "id": "15296dfd",
   "metadata": {},
   "outputs": [],
   "source": [
    "df.head()"
   ]
  },
  {
   "cell_type": "code",
   "execution_count": null,
   "id": "d254e058",
   "metadata": {},
   "outputs": [],
   "source": [
    "#from nltk.corpus import stopwords"
   ]
  },
  {
   "cell_type": "code",
   "execution_count": null,
   "id": "ad38be85",
   "metadata": {},
   "outputs": [],
   "source": [
    "#Converting paragraphs into words\n",
    "#import stopwords\n",
    "#for i in range(len(df[\"description\"])):\n",
    "#    review= re.sub(\"[a-zA-Z]\", \" \",df[\"description\"][i])\n",
    "  #  review= review.lower()\n",
    "  #  review= review.split()\n",
    "#    review= [WordNetLemmatizer().lemmatize(word) for word in review if not word in set(stopwords.words(\"english\"))] \n",
    " #   review= \" \".join(review)"
   ]
  },
  {
   "cell_type": "code",
   "execution_count": null,
   "id": "a821afda",
   "metadata": {},
   "outputs": [],
   "source": [
    "df_l= df[[\"keywords\",\"medical_specialty\"]]"
   ]
  },
  {
   "cell_type": "code",
   "execution_count": null,
   "id": "195dc3ea",
   "metadata": {},
   "outputs": [],
   "source": [
    "df_l.head()"
   ]
  },
  {
   "cell_type": "code",
   "execution_count": null,
   "id": "aed3971e",
   "metadata": {},
   "outputs": [],
   "source": [
    "from sklearn.neighbors import KNeighborsClassifier\n",
    "from sklearn.metrics import plot_roc_curve, plot_precision_recall_curve\n"
   ]
  },
  {
   "cell_type": "markdown",
   "id": "04dca4e1",
   "metadata": {},
   "source": [
    "### Handling Imbalaning in the Target features"
   ]
  },
  {
   "cell_type": "markdown",
   "id": "022528b1",
   "metadata": {},
   "source": [
    "The first strategy involves the creation of a pipeline, which undersamples the majority classes and oversamples the minority classes. "
   ]
  },
  {
   "cell_type": "code",
   "execution_count": null,
   "id": "4682be89",
   "metadata": {},
   "outputs": [],
   "source": [
    "!pip install collection"
   ]
  },
  {
   "cell_type": "code",
   "execution_count": null,
   "id": "c83460e1",
   "metadata": {},
   "outputs": [],
   "source": [
    "import numpy as np\n",
    "from collections import Counter\n",
    "n_samples = Counter.median().astype(np.int64)"
   ]
  },
  {
   "cell_type": "code",
   "execution_count": null,
   "id": "70512520",
   "metadata": {},
   "outputs": [],
   "source": [
    "import collection"
   ]
  },
  {
   "cell_type": "code",
   "execution_count": null,
   "id": "6bb94247",
   "metadata": {},
   "outputs": [],
   "source": [
    "def sampling_strategy(X,Y, n_sample, t_majority)"
   ]
  }
 ],
 "metadata": {
  "kernelspec": {
   "display_name": "Python 3 (ipykernel)",
   "language": "python",
   "name": "python3"
  },
  "language_info": {
   "codemirror_mode": {
    "name": "ipython",
    "version": 3
   },
   "file_extension": ".py",
   "mimetype": "text/x-python",
   "name": "python",
   "nbconvert_exporter": "python",
   "pygments_lexer": "ipython3",
   "version": "3.8.8"
  }
 },
 "nbformat": 4,
 "nbformat_minor": 5
}
